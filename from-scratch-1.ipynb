{
 "cells": [
  {
   "cell_type": "code",
   "execution_count": 4,
   "metadata": {},
   "outputs": [
    {
     "data": {
      "text/plain": [
       "(100,)"
      ]
     },
     "execution_count": 4,
     "metadata": {},
     "output_type": "execute_result"
    }
   ],
   "source": [
    "import tensorflow as tf\n",
    "import numpy as np\n",
    "\n",
    "# 使用 NumPy 生成假数据(phony data), 总共 100 个点.\n",
    "x_data = np.float32(np.random.rand(2, 100)) # 随机输入\n",
    "y_data = np.dot([0.100, 0.200], x_data) + 0.300\n",
    "print('y_data.shape: ',y_data.shape)"
   ]
  },
  {
   "cell_type": "code",
   "execution_count": 12,
   "metadata": {},
   "outputs": [],
   "source": [
    "# 构造一个线性模型 \n",
    "b = tf.Variable(tf.zeros([1]))\n",
    "# <tf.Variable 'Variable_6:0' shape=(1,) dtype=float32_ref>\n",
    "W = tf.Variable(tf.random_uniform([1, 2], -1.0, 1.0))\n",
    "# <tf.Variable 'Variable_9:0' shape=(1, 2) dtype=float32_ref>\n",
    "y = tf.matmul(W, x_data) + b\n",
    "# <tf.Tensor 'add_3:0' shape=(1, 100) dtype=float32>"
   ]
  },
  {
   "cell_type": "code",
   "execution_count": 13,
   "metadata": {
    "collapsed": true
   },
   "outputs": [],
   "source": [
    "# 最小化方差\n",
    "loss = tf.reduce_mean(tf.square(y - y_data))\n",
    "optimizer = tf.train.GradientDescentOptimizer(0.5)\n",
    "train = optimizer.minimize(loss)"
   ]
  },
  {
   "cell_type": "code",
   "execution_count": 16,
   "metadata": {},
   "outputs": [
    {
     "name": "stdout",
     "output_type": "stream",
     "text": [
      "WARNING:tensorflow:From I:\\Anaconda3\\lib\\site-packages\\tensorflow\\python\\util\\tf_should_use.py:170: initialize_all_variables (from tensorflow.python.ops.variables) is deprecated and will be removed after 2017-03-02.\n",
      "Instructions for updating:\n",
      "Use `tf.global_variables_initializer` instead.\n",
      "0 [[ 0.59942567  0.18772449]] [ 0.07320255]\n",
      "20 [[ 0.22371219  0.25818542]] [ 0.20639567]\n",
      "40 [[ 0.13957201  0.2300583 ]] [ 0.26447171]\n",
      "60 [[ 0.11414124  0.21236695]] [ 0.28651044]\n",
      "80 [[ 0.10526407  0.20481019]] [ 0.29487768]\n",
      "100 [[ 0.10198631  0.20184027]] [ 0.29805487]\n",
      "120 [[ 0.10075278  0.20070048]] [ 0.29926133]\n",
      "140 [[ 0.10028566  0.20026618]] [ 0.29971951]\n",
      "160 [[ 0.10010847  0.20010111]] [ 0.29989347]\n",
      "180 [[ 0.10004117  0.20003842]] [ 0.29995954]\n",
      "200 [[ 0.10001563  0.20001456]] [ 0.29998463]\n"
     ]
    }
   ],
   "source": [
    "# 初始化变量\n",
    "init = tf.initialize_all_variables()\n",
    "\n",
    "# 启动图 (graph)\n",
    "sess = tf.Session()\n",
    "sess.run(init)\n",
    "\n",
    "# 拟合平面\n",
    "for step in range(0, 201):\n",
    "    sess.run(train)\n",
    "    if step % 20 == 0:\n",
    "        print(step, sess.run(W), sess.run(b))"
   ]
  },
  {
   "cell_type": "code",
   "execution_count": 23,
   "metadata": {},
   "outputs": [
    {
     "name": "stdout",
     "output_type": "stream",
     "text": [
      "Tensor(\"Const_12:0\", shape=(1, 2), dtype=float32) \n",
      " Tensor(\"Const_13:0\", shape=(2, 1), dtype=float32)\n"
     ]
    },
    {
     "data": {
      "text/plain": [
       "<tf.Tensor 'MatMul_5:0' shape=(1, 1) dtype=float32>"
      ]
     },
     "execution_count": 23,
     "metadata": {},
     "output_type": "execute_result"
    }
   ],
   "source": [
    "'''构建图'''\n",
    "\n",
    "import tensorflow as tf\n",
    "\n",
    "# 创建一个常量op，产生一个1x2矩阵，这个op被作为一个节点，加到默认图中\n",
    "# 构造器的返回值代表该常量 op 的返回值.\n",
    "matrix1 = tf.constant([[3., 3.]])\n",
    "# 创建另外一个常量 op, 产生一个 2x1 矩阵.\n",
    "matrix2 = tf.constant([[2.],[2.]])\n",
    "print(matrix1,'\\n',matrix2)\n",
    "# Tensor(\"Const_10:0\", shape=(1, 2), dtype=float32) \n",
    "# Tensor(\"Const_11:0\", shape=(2, 1), dtype=float32)\n",
    "\n",
    "# 创建一个矩阵乘法 matmul op , 把 'matrix1' 和 'matrix2' 作为输入.\n",
    "# 返回值 'product' 代表矩阵乘法的结果.\n",
    "product = tf.matmul(matrix1, matrix2)\n",
    "\n",
    "product\n",
    "# <tf.Tensor 'MatMul_5:0' shape=(1, 1) dtype=float32>"
   ]
  },
  {
   "cell_type": "code",
   "execution_count": 25,
   "metadata": {},
   "outputs": [
    {
     "name": "stdout",
     "output_type": "stream",
     "text": [
      "[[ 12.]]\n"
     ]
    }
   ],
   "source": [
    "'''在一个会话中启动图'''\n",
    "'''构造阶段完成后，才能启动图，启动图的第一步是创建一个Session对象，如果无任何创建参数，会话构造器将启动默认图'''\n",
    "# 启动默认图\n",
    "sess = tf.Session()\n",
    "\n",
    "# 调用 sess 的 ‘run（）’方法来执行矩阵乘法 op ，传入‘product’作为该方法的参数，\n",
    "# 上面提到，‘product’代表了矩阵乘法op的输出，传入它是向方法表明，我们希望取回矩阵乘法op的输出\n",
    "\n",
    "# 整个执行过程是自动化的，会话负责传递 op 所需的全部输入，op 通常是并发执行的\n",
    "\n",
    "# 函数调用‘run（product）’触发了图中三个 op （两个常量 op 和 一个矩阵乘法 op）的执行\n",
    "\n",
    "# 返回值‘result’是一个 numpy‘ndarray’对象，\n",
    "\n",
    "result = sess.run(product)\n",
    "print(result)\n",
    "# [[ 12.]]\n",
    "\n",
    "# 任务完成，关闭会话。\n",
    "sess.close()"
   ]
  },
  {
   "cell_type": "code",
   "execution_count": null,
   "metadata": {
    "collapsed": true
   },
   "outputs": [],
   "source": []
  }
 ],
 "metadata": {
  "kernelspec": {
   "display_name": "Python 3",
   "language": "python",
   "name": "python3"
  },
  "language_info": {
   "codemirror_mode": {
    "name": "ipython",
    "version": 3
   },
   "file_extension": ".py",
   "mimetype": "text/x-python",
   "name": "python",
   "nbconvert_exporter": "python",
   "pygments_lexer": "ipython3",
   "version": "3.6.3"
  }
 },
 "nbformat": 4,
 "nbformat_minor": 2
}
