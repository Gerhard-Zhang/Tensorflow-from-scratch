{
 "cells": [
  {
   "cell_type": "code",
   "execution_count": 4,
   "metadata": {},
   "outputs": [
    {
     "data": {
      "text/plain": [
       "(100,)"
      ]
     },
     "execution_count": 4,
     "metadata": {},
     "output_type": "execute_result"
    }
   ],
   "source": [
    "import tensorflow as tf\n",
    "import numpy as np\n",
    "\n",
    "# 使用 NumPy 生成假数据(phony data), 总共 100 个点.\n",
    "x_data = np.float32(np.random.rand(2, 100)) # 随机输入\n",
    "y_data = np.dot([0.100, 0.200], x_data) + 0.300\n",
    "print('y_data.shape: ',y_data.shape)"
   ]
  },
  {
   "cell_type": "code",
   "execution_count": 12,
   "metadata": {
    "collapsed": true
   },
   "outputs": [],
   "source": [
    "# 构造一个线性模型 \n",
    "b = tf.Variable(tf.zeros([1]))\n",
    "# <tf.Variable 'Variable_6:0' shape=(1,) dtype=float32_ref>\n",
    "W = tf.Variable(tf.random_uniform([1, 2], -1.0, 1.0))\n",
    "# <tf.Variable 'Variable_9:0' shape=(1, 2) dtype=float32_ref>\n",
    "y = tf.matmul(W, x_data) + b\n",
    "# <tf.Tensor 'add_3:0' shape=(1, 100) dtype=float32>"
   ]
  },
  {
   "cell_type": "code",
   "execution_count": 13,
   "metadata": {
    "collapsed": true
   },
   "outputs": [],
   "source": [
    "# 最小化方差\n",
    "loss = tf.reduce_mean(tf.square(y - y_data))\n",
    "optimizer = tf.train.GradientDescentOptimizer(0.5)\n",
    "train = optimizer.minimize(loss)"
   ]
  },
  {
   "cell_type": "code",
   "execution_count": 16,
   "metadata": {},
   "outputs": [
    {
     "name": "stdout",
     "output_type": "stream",
     "text": [
      "WARNING:tensorflow:From I:\\Anaconda3\\lib\\site-packages\\tensorflow\\python\\util\\tf_should_use.py:170: initialize_all_variables (from tensorflow.python.ops.variables) is deprecated and will be removed after 2017-03-02.\n",
      "Instructions for updating:\n",
      "Use `tf.global_variables_initializer` instead.\n",
      "0 [[ 0.59942567  0.18772449]] [ 0.07320255]\n",
      "20 [[ 0.22371219  0.25818542]] [ 0.20639567]\n",
      "40 [[ 0.13957201  0.2300583 ]] [ 0.26447171]\n",
      "60 [[ 0.11414124  0.21236695]] [ 0.28651044]\n",
      "80 [[ 0.10526407  0.20481019]] [ 0.29487768]\n",
      "100 [[ 0.10198631  0.20184027]] [ 0.29805487]\n",
      "120 [[ 0.10075278  0.20070048]] [ 0.29926133]\n",
      "140 [[ 0.10028566  0.20026618]] [ 0.29971951]\n",
      "160 [[ 0.10010847  0.20010111]] [ 0.29989347]\n",
      "180 [[ 0.10004117  0.20003842]] [ 0.29995954]\n",
      "200 [[ 0.10001563  0.20001456]] [ 0.29998463]\n"
     ]
    }
   ],
   "source": [
    "# 初始化变量\n",
    "init = tf.initialize_all_variables()\n",
    "\n",
    "# 启动图 (graph)\n",
    "sess = tf.Session()\n",
    "sess.run(init)\n",
    "\n",
    "# 拟合平面\n",
    "for step in range(0, 201):\n",
    "    sess.run(train)\n",
    "    if step % 20 == 0:\n",
    "        print(step, sess.run(W), sess.run(b))"
   ]
  },
  {
   "cell_type": "code",
   "execution_count": 23,
   "metadata": {},
   "outputs": [
    {
     "name": "stdout",
     "output_type": "stream",
     "text": [
      "Tensor(\"Const_12:0\", shape=(1, 2), dtype=float32) \n",
      " Tensor(\"Const_13:0\", shape=(2, 1), dtype=float32)\n"
     ]
    },
    {
     "data": {
      "text/plain": [
       "<tf.Tensor 'MatMul_5:0' shape=(1, 1) dtype=float32>"
      ]
     },
     "execution_count": 23,
     "metadata": {},
     "output_type": "execute_result"
    }
   ],
   "source": [
    "'''构建图'''\n",
    "\n",
    "import tensorflow as tf\n",
    "\n",
    "# 创建一个常量op，产生一个1x2矩阵，这个op被作为一个节点，加到默认图中\n",
    "# 构造器的返回值代表该常量 op 的返回值.\n",
    "matrix1 = tf.constant([[3., 3.]])\n",
    "# 创建另外一个常量 op, 产生一个 2x1 矩阵.\n",
    "matrix2 = tf.constant([[2.],[2.]])\n",
    "print(matrix1,'\\n',matrix2)\n",
    "# Tensor(\"Const_10:0\", shape=(1, 2), dtype=float32) \n",
    "# Tensor(\"Const_11:0\", shape=(2, 1), dtype=float32)\n",
    "\n",
    "# 创建一个矩阵乘法 matmul op , 把 'matrix1' 和 'matrix2' 作为输入.\n",
    "# 返回值 'product' 代表矩阵乘法的结果.\n",
    "product = tf.matmul(matrix1, matrix2)\n",
    "\n",
    "product\n",
    "# <tf.Tensor 'MatMul_5:0' shape=(1, 1) dtype=float32>"
   ]
  },
  {
   "cell_type": "code",
   "execution_count": 25,
   "metadata": {},
   "outputs": [
    {
     "name": "stdout",
     "output_type": "stream",
     "text": [
      "[[ 12.]]\n"
     ]
    }
   ],
   "source": [
    "'''在一个会话中启动图'''\n",
    "'''构造阶段完成后，才能启动图，启动图的第一步是创建一个Session对象，如果无任何创建参数，会话构造器将启动默认图'''\n",
    "# 启动默认图\n",
    "sess = tf.Session()\n",
    "\n",
    "# 调用 sess 的 ‘run（）’方法来执行矩阵乘法 op ，传入‘product’作为该方法的参数，\n",
    "# 上面提到，‘product’代表了矩阵乘法op的输出，传入它是向方法表明，我们希望取回矩阵乘法op的输出\n",
    "\n",
    "# 整个执行过程是自动化的，会话负责传递 op 所需的全部输入，op 通常是并发执行的\n",
    "\n",
    "# 函数调用‘run（product）’触发了图中三个 op （两个常量 op 和 一个矩阵乘法 op）的执行\n",
    "\n",
    "# 返回值‘result’是一个 numpy‘ndarray’对象，\n",
    "\n",
    "result = sess.run(product)\n",
    "print(result)\n",
    "# [[ 12.]]\n",
    "\n",
    "# 任务完成，关闭会话。\n",
    "sess.close()"
   ]
  },
  {
   "cell_type": "code",
   "execution_count": 10,
   "metadata": {},
   "outputs": [
    {
     "name": "stdout",
     "output_type": "stream",
     "text": [
      "[-2. -1.]\n"
     ]
    }
   ],
   "source": [
    "# 交互式使用\n",
    "'''为了便于交互，可以使用 InteractiveSession 代替 Session 类，使用 Tensor.eval() 和 Operation.run() 方法代替 Session.run(),这样可以避免'''\n",
    "# 进入一个交互式 TensorFlow 会话\n",
    "import tensorflow as tf\n",
    "sess = tf.InteractiveSession()\n",
    "\n",
    "x = tf.Variable([1.0, 2.0])\n",
    "a = tf.constant([3.0, 3.0])\n",
    "\n",
    "# 使用初始化器 initializer op 的 run() 方法初始化 'x' \n",
    "x.initializer.run()\n",
    "\n",
    "# 增加一个减法 sub op, 从 'x' 减去 'a'. 运行减法 op, 输出结果 \n",
    "sub = tf.subtract(x, a)\n",
    "print(sub.eval())"
   ]
  },
  {
   "cell_type": "code",
   "execution_count": 6,
   "metadata": {
    "scrolled": true
   },
   "outputs": [
    {
     "name": "stdout",
     "output_type": "stream",
     "text": [
      "WARNING:tensorflow:From <ipython-input-6-22ca73fb8b30>:13: initialize_all_variables (from tensorflow.python.ops.variables) is deprecated and will be removed after 2017-03-02.\n",
      "Instructions for updating:\n",
      "Use `tf.global_variables_initializer` instead.\n",
      "0\n",
      "1\n",
      "2\n",
      "3\n"
     ]
    }
   ],
   "source": [
    "'''变量'''\n",
    "# 使用变量实现一个简单的计数器\n",
    "\n",
    "# 创建一个变量, 初始化为标量 0.\n",
    "state = tf.Variable(0, name=\"counter\")    # <tf.Variable 'counter:0' shape=() dtype=int32_ref>\n",
    "# 创建一个 op, 其作用是使 state 增加 1\n",
    "one = tf.constant(1)     # Tensor(\"Const_1:0\", shape=(), dtype=int32)\n",
    "new_value = tf.add(state, one)\n",
    "update = tf.assign(state, new_value)\n",
    "'''assign() 在图执行 run()之前是不会真正执行赋值操作的'''\n",
    "\n",
    "# 启动图后，变量必须先经过“初始化”（init）op 初始化，\n",
    "# 首先必须增加一个“初始化”op 到图中，\n",
    "init_op = tf.initialize_all_variables()\n",
    "\n",
    "# 启动图，运行 op\n",
    "with tf.Session() as sess:\n",
    "    # 运行 ‘init’op\n",
    "    sess.run(init_op)\n",
    "    # 打印‘state’的初始值\n",
    "    print(sess.run(state))\n",
    "    # 运行 op，更新 'state '，并打印 'state'\n",
    "    for _ in range(3):\n",
    "        sess.run(update)\n",
    "        print(sess.run(state))"
   ]
  },
  {
   "cell_type": "code",
   "execution_count": 8,
   "metadata": {},
   "outputs": [
    {
     "name": "stdout",
     "output_type": "stream",
     "text": [
      "[21.0, 7.0]\n"
     ]
    }
   ],
   "source": [
    "'''Fetch'''\n",
    "input1 = tf.constant(3.0)\n",
    "input2 = tf.constant(2.0)\n",
    "input3 = tf.constant(5.0)\n",
    "intermed = tf.add(input2, input3)\n",
    "mul = tf.multiply (input1, intermed)\n",
    "\n",
    "with tf.Session() as sess:\n",
    "    result = sess.run([mul, intermed])\n",
    "    print(result)\n",
    "\n",
    "\n"
   ]
  },
  {
   "cell_type": "code",
   "execution_count": 12,
   "metadata": {},
   "outputs": [
    {
     "name": "stdout",
     "output_type": "stream",
     "text": [
      "[array([ 14.], dtype=float32)]\n"
     ]
    }
   ],
   "source": [
    "'''Feed'''\n",
    "input1 = tf.placeholder(tf.float32)\n",
    "input2 = tf.placeholder(tf.float32)\n",
    "output = tf.multiply(input1, input2)\n",
    "\n",
    "with tf.Session() as sess:\n",
    "    print(sess.run([output], feed_dict={input1:[7.], input2:[2.]}))"
   ]
  },
  {
   "cell_type": "code",
   "execution_count": 18,
   "metadata": {},
   "outputs": [
    {
     "data": {
      "text/plain": [
       "array([[[-0.67632678, -0.94206386,  0.44379444,  1.16767909, -0.93021988,\n",
       "         -0.4462912 ,  1.06745513,  0.20561247],\n",
       "        [ 0.56621978, -0.14340625,  0.00312569, -0.23103931, -1.6052918 ,\n",
       "          1.84959798,  0.26611077,  0.2638253 ],\n",
       "        [-1.12070869,  1.07509605, -0.94488101,  0.87101186, -0.9735447 ,\n",
       "          0.41581925, -0.24991405, -0.98319483],\n",
       "        [-0.35816142,  0.51003495, -0.86176304,  0.93589522, -1.96552696,\n",
       "         -1.22458243, -0.50102396, -1.14288319],\n",
       "        [ 0.78202585, -0.63624021,  0.98931263,  0.67351171,  0.31478021,\n",
       "         -1.38651256, -0.91149844,  0.20167844],\n",
       "        [ 0.06928206,  0.94377576,  1.75304945, -0.17896958, -1.66892705,\n",
       "          0.8541941 ,  0.61632973,  1.4747702 ],\n",
       "        [-0.02782263, -0.43144482, -0.86292744,  0.44757491, -1.04345256,\n",
       "          0.03349194, -0.05264486,  0.77840888],\n",
       "        [ 0.08274443,  2.01197555,  1.17525195, -0.32736706,  1.08311404,\n",
       "          0.01419588, -1.25747717, -0.15126073],\n",
       "        [ 0.03377359,  1.63769331, -0.04555145, -0.53118215, -1.17689754,\n",
       "          0.57416883,  0.30575572, -0.39372241],\n",
       "        [-0.85913511,  0.93437241,  0.60043639, -0.39591173, -0.69193081,\n",
       "          1.90759526, -1.5648418 , -0.09659759]],\n",
       "\n",
       "       [[-0.52350918, -0.04830129, -1.39754764, -0.06633421, -0.86376298,\n",
       "         -0.91741378, -1.55091168,  0.39858376],\n",
       "        [-0.9727323 , -0.73649617,  0.5134993 , -0.10006645,  0.53524423,\n",
       "          0.16033174, -2.005381  ,  0.31866242],\n",
       "        [-1.44530747,  0.03005356, -0.38123348, -0.35781353, -0.89086126,\n",
       "          0.96527143, -0.32682816,  1.96070227],\n",
       "        [-0.78398843,  0.37515903, -1.068965  ,  1.41657221, -1.19247041,\n",
       "         -0.94611989,  1.25275739, -0.60381299],\n",
       "        [ 0.8921326 ,  0.38358937,  0.31373898,  0.34469747, -2.09823623,\n",
       "          1.47687129, -1.11998834,  0.42796986],\n",
       "        [-0.18168405, -0.27875142, -1.77260845, -1.14639283, -1.30208284,\n",
       "         -1.05773737, -0.20601081, -1.79041595],\n",
       "        [ 0.        ,  0.        ,  0.        ,  0.        ,  0.        ,\n",
       "          0.        ,  0.        ,  0.        ],\n",
       "        [ 0.        ,  0.        ,  0.        ,  0.        ,  0.        ,\n",
       "          0.        ,  0.        ,  0.        ],\n",
       "        [ 0.        ,  0.        ,  0.        ,  0.        ,  0.        ,\n",
       "          0.        ,  0.        ,  0.        ],\n",
       "        [ 0.        ,  0.        ,  0.        ,  0.        ,  0.        ,\n",
       "          0.        ,  0.        ,  0.        ]]])"
      ]
     },
     "execution_count": 18,
     "metadata": {},
     "output_type": "execute_result"
    }
   ],
   "source": [
    "'''dynamic_rnn例子'''\n",
    "'''这个很有用，要好好看看，晚上看，现在先看别的'''\n",
    "\n",
    "'''假设RNN的输入input是[2,20,128]，其中 2 是 batch_size，20 是文本最大长度，128 是embedding_size'''\n",
    "'''dynamic返回的是两个参数：outputs，last_states，其中 outputs是 [2,20,128],也就是每一个迭代隐状态的输出'''\n",
    "'''last_states是由（c,h）组成的tuple，均为 [batch,128]'''\n",
    "import tensorflow as tf\n",
    "import numpy as np\n",
    "# 创建输入数据\n",
    "X = np.random.randn(2, 10, 8)\n",
    "\n",
    "# 第二个example长度为6\n",
    "X[1,6:] = 0\n",
    "X_lengths = [10, 6]\n",
    "\n",
    "cell = tf.contrib.rnn.BasicLSTMCell(num_units=64, state_is_tuple=True)\n",
    "\n",
    "outputs, last_states = tf.nn.dynamic_rnn(\n",
    "    cell=cell,\n",
    "    dtype=tf.float64,\n",
    "    sequence_length=X_lengths,\n",
    "    inputs=X\n",
    ")\n",
    "\n",
    "result = tf.contrib.learn.run_n(\n",
    "    {\"outputs\": outputs, \"last_states\": last_states},\n",
    "    n=1,\n",
    "    feed_dict=None\n",
    ")\n",
    "\n"
   ]
  },
  {
   "cell_type": "code",
   "execution_count": null,
   "metadata": {
    "collapsed": true
   },
   "outputs": [],
   "source": []
  }
 ],
 "metadata": {
  "kernelspec": {
   "display_name": "Python 3",
   "language": "python",
   "name": "python3"
  },
  "language_info": {
   "codemirror_mode": {
    "name": "ipython",
    "version": 3
   },
   "file_extension": ".py",
   "mimetype": "text/x-python",
   "name": "python",
   "nbconvert_exporter": "python",
   "pygments_lexer": "ipython3",
   "version": "3.6.3"
  }
 },
 "nbformat": 4,
 "nbformat_minor": 2
}
